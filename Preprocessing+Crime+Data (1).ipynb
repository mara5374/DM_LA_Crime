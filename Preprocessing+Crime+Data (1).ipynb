{
 "cells": [
  {
   "cell_type": "code",
   "execution_count": 1,
   "metadata": {
    "collapsed": true,
    "scrolled": false
   },
   "outputs": [],
   "source": [
    "import pandas as pd\n",
    "import datetime as dt\n",
    "from matplotlib import pyplot as plt\n",
    "from scipy.cluster.hierarchy import dendrogram, linkage\n",
    "import numpy as np\n",
    "\n",
    "data = pd.read_csv(\"Crime_Data_from_2010_to_Present.csv\")"
   ]
  },
  {
   "cell_type": "code",
   "execution_count": null,
   "metadata": {
    "scrolled": true
   },
   "outputs": [],
   "source": [
    "#Data Transformations\n",
    "s_mapping = {\"M\":0, \"F\":1, \"H\":2, \"X\":3,\"-\":np.NaN}\n",
    "d_mapping = {\"A\":1,\"B\":2,\"C\":3,\"D\":4,\"F\":6,\"G\":7,\"H\":8,\"I\":9,\"J\":10,\"K\":11,\"L\":12,\"O\":15,\"P\":16,\"S\":19,\"U\":21,\"V\":22,\"W\":23,\"X\":24,\"Z\":26,\"-\":np.NaN}\n",
    "data = data.replace({'Victim Sex': s_mapping})\n",
    "data = data.replace({'Victim Descent':d_mapping})\n",
    "data['Date Reported'] = pd.to_datetime(data['Date Reported'],yearfirst=True)\n",
    "data['Date Occurred'] = pd.to_datetime(data['Date Occurred'],yearfirst=True)"
   ]
  },
  {
   "cell_type": "code",
   "execution_count": null,
   "metadata": {},
   "outputs": [],
   "source": [
    "#Get rid of null values for specified columns\n",
    "data = data.dropna(axis=0,\n",
    "                   subset=[\"Victim Age\",\"Victim Sex\",\"Victim Descent\"])\n",
    "data = data.reset_index()\n",
    "print(data.shape)\n",
    "data.dtypes"
   ]
  },
  {
   "cell_type": "code",
   "execution_count": null,
   "metadata": {},
   "outputs": [],
   "source": [
    "#group Crime Codes as Property (0) or Violent (1)\n",
    "crime_mapping = {}\n",
    "for key in [210,220,310,320,330,331,341,343,345,347,350,351,352,353,354,410,420,421,433,434,439,440,441,442,443,444,446,450,451,452,471,474,475,480,485,510,520,649,651,653,660,661,662,664,666,668,670,740,745,760,814,822,888,890,900,903,921,924,926,942,944,946,949,950,951,954]:\n",
    "    crime_mapping[key] = 0\n",
    "for key in [110,113,121,122,230,231,235,236,237,250,251,435,436,437,438,622,623,624,625,626,627,647,648,753,755,756,761,762,763,805,806,810,812,813,815,820,821,830,840,850,860,865,870,880,882,884,886,901,902,910,920,922,928,930,931,932,933,940,943,952,956]:\n",
    "    crime_mapping[key] = 1\n",
    "crime_class = data[\"Crime Code\"].replace(crime_mapping)"
   ]
  },
  {
   "cell_type": "code",
   "execution_count": null,
   "metadata": {},
   "outputs": [],
   "source": [
    "#consolidate victim info into one vector\n",
    "vict = np.column_stack((data[\"Victim Age\"],data[\"Victim Sex\"],data[\"Victim Descent\"]))"
   ]
  },
  {
   "cell_type": "code",
   "execution_count": null,
   "metadata": {
    "scrolled": true
   },
   "outputs": [],
   "source": [
    "#Construct Gaussian Bayes model\n",
    "from sklearn.naive_bayes import GaussianNB\n",
    "#a = np.array(data[\"Crime Code\"].values).reshape(-1,1)\n",
    "#a = np.column_stack((data[\"Victim Age\"],data[\"Victim Sex\"]))\n",
    "#b = data[\"Crime Code\"]\n",
    "model = GaussianNB()\n",
    "model.fit(vict,crime_mapping)"
   ]
  },
  {
   "cell_type": "code",
   "execution_count": null,
   "metadata": {
    "scrolled": true
   },
   "outputs": [],
   "source": []
  }
 ],
 "metadata": {
  "kernelspec": {
   "display_name": "Python 3",
   "language": "python",
   "name": "python3"
  },
  "language_info": {
   "codemirror_mode": {
    "name": "ipython",
    "version": 3
   },
   "file_extension": ".py",
   "mimetype": "text/x-python",
   "name": "python",
   "nbconvert_exporter": "python",
   "pygments_lexer": "ipython3",
   "version": "3.6.3"
  }
 },
 "nbformat": 4,
 "nbformat_minor": 2
}
